{
  "nbformat": 4,
  "nbformat_minor": 0,
  "metadata": {
    "colab": {
      "name": "credit card fraud detection.ipynb",
      "provenance": [],
      "collapsed_sections": [],
      "authorship_tag": "ABX9TyOx5UEDGY9Gwl2Ql93WGqDI"
    },
    "kernelspec": {
      "name": "python3",
      "display_name": "Python 3"
    },
    "language_info": {
      "name": "python"
    }
  },
  "cells": [
    {
      "cell_type": "code",
      "metadata": {
        "id": "Wh4gF5fsgjBz"
      },
      "source": [
        "import numpy as np\n",
        "import pandas as pd\n",
        "import sklearn\n",
        "import matplotlib.pyplot as plt\n",
        "import seaborn as sns\n",
        "from termcolor import colored as cl"
      ],
      "execution_count": null,
      "outputs": []
    },
    {
      "cell_type": "code",
      "metadata": {
        "colab": {
          "base_uri": "https://localhost:8080/",
          "height": 224
        },
        "id": "y5sSCzhlg22G",
        "outputId": "ece37b59-1221-474a-ec59-5cede684afd9"
      },
      "source": [
        "df=pd.read_csv(\"creditcard.csv\")\n",
        "df.head()"
      ],
      "execution_count": 25,
      "outputs": [
        {
          "output_type": "execute_result",
          "data": {
            "text/html": [
              "<div>\n",
              "<style scoped>\n",
              "    .dataframe tbody tr th:only-of-type {\n",
              "        vertical-align: middle;\n",
              "    }\n",
              "\n",
              "    .dataframe tbody tr th {\n",
              "        vertical-align: top;\n",
              "    }\n",
              "\n",
              "    .dataframe thead th {\n",
              "        text-align: right;\n",
              "    }\n",
              "</style>\n",
              "<table border=\"1\" class=\"dataframe\">\n",
              "  <thead>\n",
              "    <tr style=\"text-align: right;\">\n",
              "      <th></th>\n",
              "      <th>Time</th>\n",
              "      <th>V1</th>\n",
              "      <th>V2</th>\n",
              "      <th>V3</th>\n",
              "      <th>V4</th>\n",
              "      <th>V5</th>\n",
              "      <th>V6</th>\n",
              "      <th>V7</th>\n",
              "      <th>V8</th>\n",
              "      <th>V9</th>\n",
              "      <th>V10</th>\n",
              "      <th>V11</th>\n",
              "      <th>V12</th>\n",
              "      <th>V13</th>\n",
              "      <th>V14</th>\n",
              "      <th>V15</th>\n",
              "      <th>V16</th>\n",
              "      <th>V17</th>\n",
              "      <th>V18</th>\n",
              "      <th>V19</th>\n",
              "      <th>V20</th>\n",
              "      <th>V21</th>\n",
              "      <th>V22</th>\n",
              "      <th>V23</th>\n",
              "      <th>V24</th>\n",
              "      <th>V25</th>\n",
              "      <th>V26</th>\n",
              "      <th>V27</th>\n",
              "      <th>V28</th>\n",
              "      <th>Amount</th>\n",
              "      <th>Class</th>\n",
              "    </tr>\n",
              "  </thead>\n",
              "  <tbody>\n",
              "    <tr>\n",
              "      <th>0</th>\n",
              "      <td>0</td>\n",
              "      <td>-1.359807</td>\n",
              "      <td>-0.072781</td>\n",
              "      <td>2.536347</td>\n",
              "      <td>1.378155</td>\n",
              "      <td>-0.338321</td>\n",
              "      <td>0.462388</td>\n",
              "      <td>0.239599</td>\n",
              "      <td>0.098698</td>\n",
              "      <td>0.363787</td>\n",
              "      <td>0.090794</td>\n",
              "      <td>-0.551600</td>\n",
              "      <td>-0.617801</td>\n",
              "      <td>-0.991390</td>\n",
              "      <td>-0.311169</td>\n",
              "      <td>1.468177</td>\n",
              "      <td>-0.470401</td>\n",
              "      <td>0.207971</td>\n",
              "      <td>0.025791</td>\n",
              "      <td>0.403993</td>\n",
              "      <td>0.251412</td>\n",
              "      <td>-0.018307</td>\n",
              "      <td>0.277838</td>\n",
              "      <td>-0.110474</td>\n",
              "      <td>0.066928</td>\n",
              "      <td>0.128539</td>\n",
              "      <td>-0.189115</td>\n",
              "      <td>0.133558</td>\n",
              "      <td>-0.021053</td>\n",
              "      <td>149.62</td>\n",
              "      <td>0.0</td>\n",
              "    </tr>\n",
              "    <tr>\n",
              "      <th>1</th>\n",
              "      <td>0</td>\n",
              "      <td>1.191857</td>\n",
              "      <td>0.266151</td>\n",
              "      <td>0.166480</td>\n",
              "      <td>0.448154</td>\n",
              "      <td>0.060018</td>\n",
              "      <td>-0.082361</td>\n",
              "      <td>-0.078803</td>\n",
              "      <td>0.085102</td>\n",
              "      <td>-0.255425</td>\n",
              "      <td>-0.166974</td>\n",
              "      <td>1.612727</td>\n",
              "      <td>1.065235</td>\n",
              "      <td>0.489095</td>\n",
              "      <td>-0.143772</td>\n",
              "      <td>0.635558</td>\n",
              "      <td>0.463917</td>\n",
              "      <td>-0.114805</td>\n",
              "      <td>-0.183361</td>\n",
              "      <td>-0.145783</td>\n",
              "      <td>-0.069083</td>\n",
              "      <td>-0.225775</td>\n",
              "      <td>-0.638672</td>\n",
              "      <td>0.101288</td>\n",
              "      <td>-0.339846</td>\n",
              "      <td>0.167170</td>\n",
              "      <td>0.125895</td>\n",
              "      <td>-0.008983</td>\n",
              "      <td>0.014724</td>\n",
              "      <td>2.69</td>\n",
              "      <td>0.0</td>\n",
              "    </tr>\n",
              "    <tr>\n",
              "      <th>2</th>\n",
              "      <td>1</td>\n",
              "      <td>-1.358354</td>\n",
              "      <td>-1.340163</td>\n",
              "      <td>1.773209</td>\n",
              "      <td>0.379780</td>\n",
              "      <td>-0.503198</td>\n",
              "      <td>1.800499</td>\n",
              "      <td>0.791461</td>\n",
              "      <td>0.247676</td>\n",
              "      <td>-1.514654</td>\n",
              "      <td>0.207643</td>\n",
              "      <td>0.624501</td>\n",
              "      <td>0.066084</td>\n",
              "      <td>0.717293</td>\n",
              "      <td>-0.165946</td>\n",
              "      <td>2.345865</td>\n",
              "      <td>-2.890083</td>\n",
              "      <td>1.109969</td>\n",
              "      <td>-0.121359</td>\n",
              "      <td>-2.261857</td>\n",
              "      <td>0.524980</td>\n",
              "      <td>0.247998</td>\n",
              "      <td>0.771679</td>\n",
              "      <td>0.909412</td>\n",
              "      <td>-0.689281</td>\n",
              "      <td>-0.327642</td>\n",
              "      <td>-0.139097</td>\n",
              "      <td>-0.055353</td>\n",
              "      <td>-0.059752</td>\n",
              "      <td>378.66</td>\n",
              "      <td>0.0</td>\n",
              "    </tr>\n",
              "    <tr>\n",
              "      <th>3</th>\n",
              "      <td>1</td>\n",
              "      <td>-0.966272</td>\n",
              "      <td>-0.185226</td>\n",
              "      <td>1.792993</td>\n",
              "      <td>-0.863291</td>\n",
              "      <td>-0.010309</td>\n",
              "      <td>1.247203</td>\n",
              "      <td>0.237609</td>\n",
              "      <td>0.377436</td>\n",
              "      <td>-1.387024</td>\n",
              "      <td>-0.054952</td>\n",
              "      <td>-0.226487</td>\n",
              "      <td>0.178228</td>\n",
              "      <td>0.507757</td>\n",
              "      <td>-0.287924</td>\n",
              "      <td>-0.631418</td>\n",
              "      <td>-1.059647</td>\n",
              "      <td>-0.684093</td>\n",
              "      <td>1.965775</td>\n",
              "      <td>-1.232622</td>\n",
              "      <td>-0.208038</td>\n",
              "      <td>-0.108300</td>\n",
              "      <td>0.005274</td>\n",
              "      <td>-0.190321</td>\n",
              "      <td>-1.175575</td>\n",
              "      <td>0.647376</td>\n",
              "      <td>-0.221929</td>\n",
              "      <td>0.062723</td>\n",
              "      <td>0.061458</td>\n",
              "      <td>123.50</td>\n",
              "      <td>0.0</td>\n",
              "    </tr>\n",
              "    <tr>\n",
              "      <th>4</th>\n",
              "      <td>2</td>\n",
              "      <td>-1.158233</td>\n",
              "      <td>0.877737</td>\n",
              "      <td>1.548718</td>\n",
              "      <td>0.403034</td>\n",
              "      <td>-0.407193</td>\n",
              "      <td>0.095921</td>\n",
              "      <td>0.592941</td>\n",
              "      <td>-0.270533</td>\n",
              "      <td>0.817739</td>\n",
              "      <td>0.753074</td>\n",
              "      <td>-0.822843</td>\n",
              "      <td>0.538196</td>\n",
              "      <td>1.345852</td>\n",
              "      <td>-1.119670</td>\n",
              "      <td>0.175121</td>\n",
              "      <td>-0.451449</td>\n",
              "      <td>-0.237033</td>\n",
              "      <td>-0.038195</td>\n",
              "      <td>0.803487</td>\n",
              "      <td>0.408542</td>\n",
              "      <td>-0.009431</td>\n",
              "      <td>0.798278</td>\n",
              "      <td>-0.137458</td>\n",
              "      <td>0.141267</td>\n",
              "      <td>-0.206010</td>\n",
              "      <td>0.502292</td>\n",
              "      <td>0.219422</td>\n",
              "      <td>0.215153</td>\n",
              "      <td>69.99</td>\n",
              "      <td>1.0</td>\n",
              "    </tr>\n",
              "  </tbody>\n",
              "</table>\n",
              "</div>"
            ],
            "text/plain": [
              "   Time        V1        V2        V3  ...       V27       V28  Amount  Class\n",
              "0     0 -1.359807 -0.072781  2.536347  ...  0.133558 -0.021053  149.62    0.0\n",
              "1     0  1.191857  0.266151  0.166480  ... -0.008983  0.014724    2.69    0.0\n",
              "2     1 -1.358354 -1.340163  1.773209  ... -0.055353 -0.059752  378.66    0.0\n",
              "3     1 -0.966272 -0.185226  1.792993  ...  0.062723  0.061458  123.50    0.0\n",
              "4     2 -1.158233  0.877737  1.548718  ...  0.219422  0.215153   69.99    1.0\n",
              "\n",
              "[5 rows x 31 columns]"
            ]
          },
          "metadata": {},
          "execution_count": 25
        }
      ]
    },
    {
      "cell_type": "code",
      "metadata": {
        "id": "aiZkhPrSlk_c",
        "colab": {
          "base_uri": "https://localhost:8080/"
        },
        "outputId": "a741a7be-6da7-4330-d324-69d0137e2767"
      },
      "source": [
        "df.columns"
      ],
      "execution_count": 26,
      "outputs": [
        {
          "output_type": "execute_result",
          "data": {
            "text/plain": [
              "Index(['Time', 'V1', 'V2', 'V3', 'V4', 'V5', 'V6', 'V7', 'V8', 'V9', 'V10',\n",
              "       'V11', 'V12', 'V13', 'V14', 'V15', 'V16', 'V17', 'V18', 'V19', 'V20',\n",
              "       'V21', 'V22', 'V23', 'V24', 'V25', 'V26', 'V27', 'V28', 'Amount',\n",
              "       'Class'],\n",
              "      dtype='object')"
            ]
          },
          "metadata": {},
          "execution_count": 26
        }
      ]
    },
    {
      "cell_type": "code",
      "metadata": {
        "id": "E644VM7uhOjr",
        "colab": {
          "base_uri": "https://localhost:8080/"
        },
        "outputId": "b8ada0cc-ecca-4a79-df27-c3b92a781ce9"
      },
      "source": [
        "df.dtypes"
      ],
      "execution_count": 27,
      "outputs": [
        {
          "output_type": "execute_result",
          "data": {
            "text/plain": [
              "Time        int64\n",
              "V1        float64\n",
              "V2        float64\n",
              "V3        float64\n",
              "V4        float64\n",
              "V5        float64\n",
              "V6        float64\n",
              "V7        float64\n",
              "V8        float64\n",
              "V9        float64\n",
              "V10       float64\n",
              "V11       float64\n",
              "V12       float64\n",
              "V13       float64\n",
              "V14       float64\n",
              "V15       float64\n",
              "V16       float64\n",
              "V17       float64\n",
              "V18       float64\n",
              "V19       float64\n",
              "V20       float64\n",
              "V21       float64\n",
              "V22       float64\n",
              "V23       float64\n",
              "V24       float64\n",
              "V25       float64\n",
              "V26       float64\n",
              "V27       float64\n",
              "V28       float64\n",
              "Amount    float64\n",
              "Class     float64\n",
              "dtype: object"
            ]
          },
          "metadata": {},
          "execution_count": 27
        }
      ]
    },
    {
      "cell_type": "code",
      "metadata": {
        "id": "O7saw2anhFZk",
        "colab": {
          "base_uri": "https://localhost:8080/",
          "height": 317
        },
        "outputId": "8658d0d8-eb83-4fc0-bd37-69f246f1e0b7"
      },
      "source": [
        "df.describe()"
      ],
      "execution_count": 28,
      "outputs": [
        {
          "output_type": "execute_result",
          "data": {
            "text/html": [
              "<div>\n",
              "<style scoped>\n",
              "    .dataframe tbody tr th:only-of-type {\n",
              "        vertical-align: middle;\n",
              "    }\n",
              "\n",
              "    .dataframe tbody tr th {\n",
              "        vertical-align: top;\n",
              "    }\n",
              "\n",
              "    .dataframe thead th {\n",
              "        text-align: right;\n",
              "    }\n",
              "</style>\n",
              "<table border=\"1\" class=\"dataframe\">\n",
              "  <thead>\n",
              "    <tr style=\"text-align: right;\">\n",
              "      <th></th>\n",
              "      <th>Time</th>\n",
              "      <th>V1</th>\n",
              "      <th>V2</th>\n",
              "      <th>V3</th>\n",
              "      <th>V4</th>\n",
              "      <th>V5</th>\n",
              "      <th>V6</th>\n",
              "      <th>V7</th>\n",
              "      <th>V8</th>\n",
              "      <th>V9</th>\n",
              "      <th>V10</th>\n",
              "      <th>V11</th>\n",
              "      <th>V12</th>\n",
              "      <th>V13</th>\n",
              "      <th>V14</th>\n",
              "      <th>V15</th>\n",
              "      <th>V16</th>\n",
              "      <th>V17</th>\n",
              "      <th>V18</th>\n",
              "      <th>V19</th>\n",
              "      <th>V20</th>\n",
              "      <th>V21</th>\n",
              "      <th>V22</th>\n",
              "      <th>V23</th>\n",
              "      <th>V24</th>\n",
              "      <th>V25</th>\n",
              "      <th>V26</th>\n",
              "      <th>V27</th>\n",
              "      <th>V28</th>\n",
              "      <th>Amount</th>\n",
              "      <th>Class</th>\n",
              "    </tr>\n",
              "  </thead>\n",
              "  <tbody>\n",
              "    <tr>\n",
              "      <th>count</th>\n",
              "      <td>2923.000000</td>\n",
              "      <td>2923.000000</td>\n",
              "      <td>2923.000000</td>\n",
              "      <td>2923.000000</td>\n",
              "      <td>2923.000000</td>\n",
              "      <td>2923.000000</td>\n",
              "      <td>2923.000000</td>\n",
              "      <td>2923.000000</td>\n",
              "      <td>2923.000000</td>\n",
              "      <td>2923.000000</td>\n",
              "      <td>2923.000000</td>\n",
              "      <td>2923.000000</td>\n",
              "      <td>2923.000000</td>\n",
              "      <td>2923.000000</td>\n",
              "      <td>2923.000000</td>\n",
              "      <td>2923.000000</td>\n",
              "      <td>2923.000000</td>\n",
              "      <td>2923.000000</td>\n",
              "      <td>2923.000000</td>\n",
              "      <td>2923.000000</td>\n",
              "      <td>2923.000000</td>\n",
              "      <td>2923.000000</td>\n",
              "      <td>2923.000000</td>\n",
              "      <td>2923.000000</td>\n",
              "      <td>2923.000000</td>\n",
              "      <td>2923.000000</td>\n",
              "      <td>2923.000000</td>\n",
              "      <td>2923.000000</td>\n",
              "      <td>2922.000000</td>\n",
              "      <td>2922.000000</td>\n",
              "      <td>2922.000000</td>\n",
              "    </tr>\n",
              "    <tr>\n",
              "      <th>mean</th>\n",
              "      <td>1157.248375</td>\n",
              "      <td>-0.334017</td>\n",
              "      <td>0.295477</td>\n",
              "      <td>0.845482</td>\n",
              "      <td>0.102388</td>\n",
              "      <td>-0.084588</td>\n",
              "      <td>0.041536</td>\n",
              "      <td>0.125553</td>\n",
              "      <td>-0.078615</td>\n",
              "      <td>0.039314</td>\n",
              "      <td>0.001845</td>\n",
              "      <td>0.096922</td>\n",
              "      <td>0.281911</td>\n",
              "      <td>-0.145154</td>\n",
              "      <td>-0.127390</td>\n",
              "      <td>0.219544</td>\n",
              "      <td>-0.122964</td>\n",
              "      <td>-0.086597</td>\n",
              "      <td>-0.135155</td>\n",
              "      <td>0.052412</td>\n",
              "      <td>0.054122</td>\n",
              "      <td>0.022294</td>\n",
              "      <td>-0.140314</td>\n",
              "      <td>-0.042219</td>\n",
              "      <td>0.013856</td>\n",
              "      <td>0.100449</td>\n",
              "      <td>0.031599</td>\n",
              "      <td>0.045141</td>\n",
              "      <td>0.001299</td>\n",
              "      <td>67.955986</td>\n",
              "      <td>0.221766</td>\n",
              "    </tr>\n",
              "    <tr>\n",
              "      <th>std</th>\n",
              "      <td>704.290301</td>\n",
              "      <td>1.393153</td>\n",
              "      <td>1.223387</td>\n",
              "      <td>0.986023</td>\n",
              "      <td>1.324235</td>\n",
              "      <td>1.237915</td>\n",
              "      <td>1.277126</td>\n",
              "      <td>1.121500</td>\n",
              "      <td>1.147635</td>\n",
              "      <td>0.912087</td>\n",
              "      <td>0.983348</td>\n",
              "      <td>1.004229</td>\n",
              "      <td>0.646198</td>\n",
              "      <td>0.914788</td>\n",
              "      <td>0.754502</td>\n",
              "      <td>0.898793</td>\n",
              "      <td>0.780415</td>\n",
              "      <td>0.682486</td>\n",
              "      <td>0.738647</td>\n",
              "      <td>0.777237</td>\n",
              "      <td>0.591627</td>\n",
              "      <td>0.833485</td>\n",
              "      <td>0.618648</td>\n",
              "      <td>0.354303</td>\n",
              "      <td>0.595526</td>\n",
              "      <td>0.409030</td>\n",
              "      <td>0.478827</td>\n",
              "      <td>0.357938</td>\n",
              "      <td>0.265467</td>\n",
              "      <td>235.093423</td>\n",
              "      <td>0.415506</td>\n",
              "    </tr>\n",
              "    <tr>\n",
              "      <th>min</th>\n",
              "      <td>0.000000</td>\n",
              "      <td>-12.168192</td>\n",
              "      <td>-15.732974</td>\n",
              "      <td>-12.389545</td>\n",
              "      <td>-4.657545</td>\n",
              "      <td>-32.092129</td>\n",
              "      <td>-7.465603</td>\n",
              "      <td>-8.945496</td>\n",
              "      <td>-19.176657</td>\n",
              "      <td>-3.110515</td>\n",
              "      <td>-3.563578</td>\n",
              "      <td>-2.595325</td>\n",
              "      <td>-2.899907</td>\n",
              "      <td>-3.389510</td>\n",
              "      <td>-6.576789</td>\n",
              "      <td>-3.618060</td>\n",
              "      <td>-3.826098</td>\n",
              "      <td>-5.400014</td>\n",
              "      <td>-3.890140</td>\n",
              "      <td>-3.718810</td>\n",
              "      <td>-11.748689</td>\n",
              "      <td>-4.709977</td>\n",
              "      <td>-4.432106</td>\n",
              "      <td>-4.020300</td>\n",
              "      <td>-2.162523</td>\n",
              "      <td>-1.577384</td>\n",
              "      <td>-1.243924</td>\n",
              "      <td>-5.336289</td>\n",
              "      <td>-2.909294</td>\n",
              "      <td>0.000000</td>\n",
              "      <td>0.000000</td>\n",
              "    </tr>\n",
              "    <tr>\n",
              "      <th>25%</th>\n",
              "      <td>550.000000</td>\n",
              "      <td>-1.088167</td>\n",
              "      <td>-0.180548</td>\n",
              "      <td>0.290367</td>\n",
              "      <td>-0.762449</td>\n",
              "      <td>-0.603171</td>\n",
              "      <td>-0.714916</td>\n",
              "      <td>-0.311558</td>\n",
              "      <td>-0.197142</td>\n",
              "      <td>-0.479566</td>\n",
              "      <td>-0.469595</td>\n",
              "      <td>-0.645671</td>\n",
              "      <td>-0.141010</td>\n",
              "      <td>-0.779281</td>\n",
              "      <td>-0.407949</td>\n",
              "      <td>-0.360722</td>\n",
              "      <td>-0.620423</td>\n",
              "      <td>-0.501040</td>\n",
              "      <td>-0.554890</td>\n",
              "      <td>-0.426369</td>\n",
              "      <td>-0.133650</td>\n",
              "      <td>-0.225683</td>\n",
              "      <td>-0.547154</td>\n",
              "      <td>-0.187037</td>\n",
              "      <td>-0.358373</td>\n",
              "      <td>-0.148071</td>\n",
              "      <td>-0.302827</td>\n",
              "      <td>-0.042663</td>\n",
              "      <td>-0.017615</td>\n",
              "      <td>3.817500</td>\n",
              "      <td>0.000000</td>\n",
              "    </tr>\n",
              "    <tr>\n",
              "      <th>50%</th>\n",
              "      <td>1135.000000</td>\n",
              "      <td>-0.458705</td>\n",
              "      <td>0.357519</td>\n",
              "      <td>0.868256</td>\n",
              "      <td>0.140817</td>\n",
              "      <td>-0.140202</td>\n",
              "      <td>-0.209263</td>\n",
              "      <td>0.122413</td>\n",
              "      <td>0.028133</td>\n",
              "      <td>0.010309</td>\n",
              "      <td>-0.109646</td>\n",
              "      <td>0.011709</td>\n",
              "      <td>0.299444</td>\n",
              "      <td>-0.108997</td>\n",
              "      <td>-0.022669</td>\n",
              "      <td>0.321341</td>\n",
              "      <td>-0.039753</td>\n",
              "      <td>-0.142909</td>\n",
              "      <td>-0.118506</td>\n",
              "      <td>0.040823</td>\n",
              "      <td>0.007720</td>\n",
              "      <td>-0.080783</td>\n",
              "      <td>-0.143518</td>\n",
              "      <td>-0.058762</td>\n",
              "      <td>0.089264</td>\n",
              "      <td>0.118704</td>\n",
              "      <td>0.021763</td>\n",
              "      <td>0.029386</td>\n",
              "      <td>0.022927</td>\n",
              "      <td>13.990000</td>\n",
              "      <td>0.000000</td>\n",
              "    </tr>\n",
              "    <tr>\n",
              "      <th>75%</th>\n",
              "      <td>1712.000000</td>\n",
              "      <td>1.086080</td>\n",
              "      <td>0.950014</td>\n",
              "      <td>1.455047</td>\n",
              "      <td>1.002457</td>\n",
              "      <td>0.374203</td>\n",
              "      <td>0.421043</td>\n",
              "      <td>0.593711</td>\n",
              "      <td>0.287463</td>\n",
              "      <td>0.541219</td>\n",
              "      <td>0.329604</td>\n",
              "      <td>0.930438</td>\n",
              "      <td>0.732260</td>\n",
              "      <td>0.497013</td>\n",
              "      <td>0.312448</td>\n",
              "      <td>0.876787</td>\n",
              "      <td>0.425525</td>\n",
              "      <td>0.250807</td>\n",
              "      <td>0.272620</td>\n",
              "      <td>0.533939</td>\n",
              "      <td>0.175778</td>\n",
              "      <td>0.089006</td>\n",
              "      <td>0.284397</td>\n",
              "      <td>0.070922</td>\n",
              "      <td>0.423843</td>\n",
              "      <td>0.370447</td>\n",
              "      <td>0.307106</td>\n",
              "      <td>0.184856</td>\n",
              "      <td>0.093151</td>\n",
              "      <td>56.965000</td>\n",
              "      <td>0.000000</td>\n",
              "    </tr>\n",
              "    <tr>\n",
              "      <th>max</th>\n",
              "      <td>2471.000000</td>\n",
              "      <td>1.685314</td>\n",
              "      <td>6.118940</td>\n",
              "      <td>4.017561</td>\n",
              "      <td>6.013346</td>\n",
              "      <td>10.658654</td>\n",
              "      <td>21.393069</td>\n",
              "      <td>34.303177</td>\n",
              "      <td>3.877662</td>\n",
              "      <td>6.450992</td>\n",
              "      <td>11.906868</td>\n",
              "      <td>3.702177</td>\n",
              "      <td>2.313066</td>\n",
              "      <td>3.182541</td>\n",
              "      <td>2.146962</td>\n",
              "      <td>3.635042</td>\n",
              "      <td>4.087802</td>\n",
              "      <td>4.072972</td>\n",
              "      <td>2.689762</td>\n",
              "      <td>3.097749</td>\n",
              "      <td>7.744222</td>\n",
              "      <td>14.718212</td>\n",
              "      <td>1.957759</td>\n",
              "      <td>4.095021</td>\n",
              "      <td>1.215279</td>\n",
              "      <td>1.629684</td>\n",
              "      <td>3.463246</td>\n",
              "      <td>3.852046</td>\n",
              "      <td>4.157934</td>\n",
              "      <td>7712.430000</td>\n",
              "      <td>1.000000</td>\n",
              "    </tr>\n",
              "  </tbody>\n",
              "</table>\n",
              "</div>"
            ],
            "text/plain": [
              "              Time           V1  ...       Amount        Class\n",
              "count  2923.000000  2923.000000  ...  2922.000000  2922.000000\n",
              "mean   1157.248375    -0.334017  ...    67.955986     0.221766\n",
              "std     704.290301     1.393153  ...   235.093423     0.415506\n",
              "min       0.000000   -12.168192  ...     0.000000     0.000000\n",
              "25%     550.000000    -1.088167  ...     3.817500     0.000000\n",
              "50%    1135.000000    -0.458705  ...    13.990000     0.000000\n",
              "75%    1712.000000     1.086080  ...    56.965000     0.000000\n",
              "max    2471.000000     1.685314  ...  7712.430000     1.000000\n",
              "\n",
              "[8 rows x 31 columns]"
            ]
          },
          "metadata": {},
          "execution_count": 28
        }
      ]
    },
    {
      "cell_type": "code",
      "metadata": {
        "id": "uwbO5n8IkEaV"
      },
      "source": [
        "df.drop(['Time'],axis=1,inplace=True)\n",
        "df.dropna(inplace=True)"
      ],
      "execution_count": 29,
      "outputs": []
    },
    {
      "cell_type": "code",
      "metadata": {
        "id": "k3EMoL58kfQV",
        "colab": {
          "base_uri": "https://localhost:8080/"
        },
        "outputId": "14f042fd-e172-4eab-f2b6-6aa29318c142"
      },
      "source": [
        "df.isnull().sum()"
      ],
      "execution_count": 30,
      "outputs": [
        {
          "output_type": "execute_result",
          "data": {
            "text/plain": [
              "V1        0\n",
              "V2        0\n",
              "V3        0\n",
              "V4        0\n",
              "V5        0\n",
              "V6        0\n",
              "V7        0\n",
              "V8        0\n",
              "V9        0\n",
              "V10       0\n",
              "V11       0\n",
              "V12       0\n",
              "V13       0\n",
              "V14       0\n",
              "V15       0\n",
              "V16       0\n",
              "V17       0\n",
              "V18       0\n",
              "V19       0\n",
              "V20       0\n",
              "V21       0\n",
              "V22       0\n",
              "V23       0\n",
              "V24       0\n",
              "V25       0\n",
              "V26       0\n",
              "V27       0\n",
              "V28       0\n",
              "Amount    0\n",
              "Class     0\n",
              "dtype: int64"
            ]
          },
          "metadata": {},
          "execution_count": 30
        }
      ]
    },
    {
      "cell_type": "code",
      "metadata": {
        "colab": {
          "base_uri": "https://localhost:8080/"
        },
        "id": "60JaoU42hU8h",
        "outputId": "95c19f0d-ed7a-415b-b46b-3b8df886d476"
      },
      "source": [
        "df['Class'].value_counts()"
      ],
      "execution_count": 31,
      "outputs": [
        {
          "output_type": "execute_result",
          "data": {
            "text/plain": [
              "0.0    2274\n",
              "1.0     648\n",
              "Name: Class, dtype: int64"
            ]
          },
          "metadata": {},
          "execution_count": 31
        }
      ]
    },
    {
      "cell_type": "code",
      "metadata": {
        "id": "XThUARnEh1b-",
        "colab": {
          "base_uri": "https://localhost:8080/"
        },
        "outputId": "b0a10793-5462-49b8-f4ef-b81026ae8705"
      },
      "source": [
        "Total_transactions = len(df)\n",
        "normal = len(df[df.Class == 0])\n",
        "fraudulent = len(df[df.Class == 1])\n",
        "fraud_percentage = round(fraudulent/normal*100, 2)\n",
        "print(cl('Total number of Trnsactions are {}'.format(Total_transactions), attrs = ['bold']))\n",
        "print(cl('Number of Normal Transactions are {}'.format(normal), attrs = ['bold']))\n",
        "print(cl('Number of fraudulent Transactions are {}'.format(fraudulent), attrs = ['bold']))\n",
        "print(cl('Percentage of fraud Transactions is {}'.format(fraud_percentage), attrs = ['bold']))\n"
      ],
      "execution_count": 32,
      "outputs": [
        {
          "output_type": "stream",
          "name": "stdout",
          "text": [
            "\u001b[1mTotal number of Trnsactions are 2922\u001b[0m\n",
            "\u001b[1mNumber of Normal Transactions are 2274\u001b[0m\n",
            "\u001b[1mNumber of fraudulent Transactions are 648\u001b[0m\n",
            "\u001b[1mPercentage of fraud Transactions is 28.5\u001b[0m\n"
          ]
        }
      ]
    },
    {
      "cell_type": "code",
      "metadata": {
        "id": "iBDoPHMRicJV",
        "colab": {
          "base_uri": "https://localhost:8080/",
          "height": 700
        },
        "outputId": "ab7849d2-67d7-425a-8d5f-07c08e9a3921"
      },
      "source": [
        "fig = plt.figure(figsize = (15, 12))\n",
        "\n",
        "plt.subplot(5, 6, 1) ; plt.plot(df.V1) ; plt.subplot(5, 6, 15) ; plt.plot(df.V15)\n",
        "plt.subplot(5, 6, 2) ; plt.plot(df.V2) ; plt.subplot(5, 6, 16) ; plt.plot(df.V16)\n",
        "plt.subplot(5, 6, 3) ; plt.plot(df.V3) ; plt.subplot(5, 6, 17) ; plt.plot(df.V17)\n",
        "plt.subplot(5, 6, 4) ; plt.plot(df.V4) ; plt.subplot(5, 6, 18) ; plt.plot(df.V18)\n",
        "plt.subplot(5, 6, 5) ; plt.plot(df.V5) ; plt.subplot(5, 6, 19) ; plt.plot(df.V19)\n",
        "plt.subplot(5, 6, 6) ; plt.plot(df.V6) ; plt.subplot(5, 6, 20) ; plt.plot(df.V20)\n",
        "plt.subplot(5, 6, 7) ; plt.plot(df.V7) ; plt.subplot(5, 6, 21) ; plt.plot(df.V21)\n",
        "plt.subplot(5, 6, 8) ; plt.plot(df.V8) ; plt.subplot(5, 6, 22) ; plt.plot(df.V22)\n",
        "plt.subplot(5, 6, 9) ; plt.plot(df.V9) ; plt.subplot(5, 6, 23) ; plt.plot(df.V23)\n",
        "plt.subplot(5, 6, 10) ; plt.plot(df.V10) ; plt.subplot(5, 6, 24) ; plt.plot(df.V24)\n",
        "plt.subplot(5, 6, 11) ; plt.plot(df.V11) ; plt.subplot(5, 6, 25) ; plt.plot(df.V25)\n",
        "plt.subplot(5, 6, 12) ; plt.plot(df.V12) ; plt.subplot(5, 6, 26) ; plt.plot(df.V26)\n",
        "plt.subplot(5, 6, 13) ; plt.plot(df.V13) ; plt.subplot(5, 6, 27) ; plt.plot(df.V27)\n",
        "plt.subplot(5, 6, 14) ; plt.plot(df.V14) ; plt.subplot(5, 6, 28) ; plt.plot(df.V28)\n",
        "plt.subplot(5, 6, 29) ; plt.plot(df.Amount)\n",
        "plt.show()"
      ],
      "execution_count": 33,
      "outputs": [
        {
          "output_type": "display_data",
          "data": {
            "image/png": "[encoded data removed]",
            "text/plain": [
              "<Figure size 1080x864 with 29 Axes>"
            ]
          },
          "metadata": {
            "needs_background": "light"
          }
        }
      ]
    },
    {
      "cell_type": "code",
      "metadata": {
        "id": "r1feJCftjoEl"
      },
      "source": [
        "feature_names = df.iloc[:, 1:30].columns\n",
        "\n",
        "X=df[feature_names]\n",
        "X=np.nan_to_num(X)\n",
        "y=df['Class'].values"
      ],
      "execution_count": 34,
      "outputs": []
    },
    {
      "cell_type": "code",
      "metadata": {
        "id": "j6tUbvkInTLH"
      },
      "source": [
        "from sklearn.preprocessing import StandardScaler \n",
        "scale=StandardScaler()\n",
        "\n",
        "claus=scale.fit_transform(X)"
      ],
      "execution_count": 35,
      "outputs": []
    },
    {
      "cell_type": "code",
      "metadata": {
        "id": "yHjOmh_-ktBx",
        "colab": {
          "base_uri": "https://localhost:8080/"
        },
        "outputId": "47908468-d909-409c-ddb8-648aa7620056"
      },
      "source": [
        "from sklearn.model_selection import train_test_split as tts\n",
        "\n",
        "X_train,X_test,y_train,y_test=tts(X,y,test_size=0.3,random_state=1)\n",
        "print(\"Length of X_train is: {X_train}\".format(X_train = len(X_train)))\n",
        "print(\"Length of X_test is: {X_test}\".format(X_test = len(X_test)))\n",
        "print(\"Length of y_train is: {y_train}\".format(y_train = len(y_train)))\n",
        "print(\"Length of y_test is: {y_test}\".format(y_test = len(y_test)))"
      ],
      "execution_count": 36,
      "outputs": [
        {
          "output_type": "stream",
          "name": "stdout",
          "text": [
            "Length of X_train is: 2045\n",
            "Length of X_test is: 877\n",
            "Length of y_train is: 2045\n",
            "Length of y_test is: 877\n"
          ]
        }
      ]
    },
    {
      "cell_type": "code",
      "metadata": {
        "id": "4qSeD8LamXYH",
        "colab": {
          "base_uri": "https://localhost:8080/"
        },
        "outputId": "a227f229-d440-4458-c2e2-30e938c463d0"
      },
      "source": [
        "from sklearn.linear_model import LogisticRegression \n",
        "lr=LogisticRegression(C=0.01,solver='liblinear').fit(X_train,y_train)\n",
        "lr"
      ],
      "execution_count": 37,
      "outputs": [
        {
          "output_type": "execute_result",
          "data": {
            "text/plain": [
              "LogisticRegression(C=0.01, class_weight=None, dual=False, fit_intercept=True,\n",
              "                   intercept_scaling=1, l1_ratio=None, max_iter=100,\n",
              "                   multi_class='auto', n_jobs=None, penalty='l2',\n",
              "                   random_state=None, solver='liblinear', tol=0.0001, verbose=0,\n",
              "                   warm_start=False)"
            ]
          },
          "metadata": {},
          "execution_count": 37
        }
      ]
    },
    {
      "cell_type": "code",
      "metadata": {
        "id": "mS56Kvu_oJaF"
      },
      "source": [
        "yhat=lr.predict(X_test)\n",
        "yhat_prob=lr.predict_proba(X_test)"
      ],
      "execution_count": 38,
      "outputs": []
    },
    {
      "cell_type": "code",
      "metadata": {
        "colab": {
          "base_uri": "https://localhost:8080/",
          "height": 311
        },
        "id": "i3AO0JAQpIEv",
        "outputId": "4951085d-9b7e-474f-b76d-9676c3eb7530"
      },
      "source": [
        "from sklearn.metrics import confusion_matrix\n",
        "class_names = ['not_fraud', 'fraud']\n",
        "matrix = confusion_matrix(y_test,yhat)\n",
        "# Create pandas dataframe\n",
        "dataframe = pd.DataFrame(matrix, index=class_names, columns=class_names)\n",
        "# Create heatmap\n",
        "sns.heatmap(dataframe, annot=True, cbar=None, cmap=\"Blues\", fmt = 'g')\n",
        "plt.title(\"Confusion Matrix\"), plt.tight_layout()\n",
        "plt.ylabel(\"True Class\"), plt.xlabel(\"Predicted Class\")\n",
        "plt.show()"
      ],
      "execution_count": 39,
      "outputs": [
        {
          "output_type": "display_data",
          "data": {
            "image/png": "[encoded data removed]",
            "text/plain": [
              "<Figure size 432x288 with 1 Axes>"
            ]
          },
          "metadata": {
            "needs_background": "light"
          }
        }
      ]
    },
    {
      "cell_type": "code",
      "metadata": {
        "colab": {
          "base_uri": "https://localhost:8080/"
        },
        "id": "LZJ3trGaom3r",
        "outputId": "e411e7db-7f4f-483a-d4b7-a13e9438ce00"
      },
      "source": [
        "from sklearn.metrics import jaccard_score,log_loss\n",
        "print(\"Jaccard_score is \",jaccard_score(y_test,yhat,pos_label=0))\n",
        "print(\"log_loss is \",log_loss(y_test,yhat_prob,))"
      ],
      "execution_count": 40,
      "outputs": [
        {
          "output_type": "stream",
          "name": "stdout",
          "text": [
            "Jaccard_score is  0.9506346967559943\n",
            "log_loss is  0.2755473215422135\n"
          ]
        }
      ]
    },
    {
      "cell_type": "code",
      "metadata": {
        "id": "aef3jSqTqyA_",
        "colab": {
          "base_uri": "https://localhost:8080/",
          "height": 265
        },
        "outputId": "3d3e3e80-8ecc-410b-e743-d6ed0c079b81"
      },
      "source": [
        "from sklearn.neighbors import KNeighborsClassifier as KNC\n",
        "from sklearn.metrics import accuracy_score\n",
        "ks=10\n",
        "mean_acc=np.zeros((ks-1))\n",
        "std_acc=np.zeros((ks-1))\n",
        "\n",
        "for n in range(1,ks):\n",
        "  neigh=KNC(n_neighbors=n).fit(X_train,y_train)\n",
        "  yhat=neigh.predict(X_test)\n",
        "  mean_acc[n-1]=accuracy_score(y_test,yhat)\n",
        "mean_acc\n",
        "\n",
        "plt.plot(range(1,ks),mean_acc)\n",
        "plt.show()\n"
      ],
      "execution_count": 41,
      "outputs": [
        {
          "output_type": "display_data",
          "data": {
            "image/png": "[encoded data removed]",
            "text/plain": [
              "<Figure size 432x288 with 1 Axes>"
            ]
          },
          "metadata": {
            "needs_background": "light"
          }
        }
      ]
    },
    {
      "cell_type": "code",
      "metadata": {
        "colab": {
          "base_uri": "https://localhost:8080/"
        },
        "id": "A-2IihXO0yiW",
        "outputId": "3fe6e45e-da67-45a6-c524-892aaa61f58f"
      },
      "source": [
        "k=8\n",
        "neigh1=KNC(n_neighbors=k).fit(X_train,y_train)\n",
        "yhat1=neigh1.predict(X_test)\n",
        "yhat1[0:5]\n"
      ],
      "execution_count": 50,
      "outputs": [
        {
          "output_type": "execute_result",
          "data": {
            "text/plain": [
              "array([0., 0., 0., 0., 0.])"
            ]
          },
          "metadata": {},
          "execution_count": 50
        }
      ]
    },
    {
      "cell_type": "code",
      "metadata": {
        "id": "hENbwjm01e7m",
        "colab": {
          "base_uri": "https://localhost:8080/"
        },
        "outputId": "cb253461-f033-449b-884b-968b0d392885"
      },
      "source": [
        "from sklearn.metrics import accuracy_score,jaccard_score\n",
        "print(accuracy_score(y_test,yhat))\n",
        "print(\"Jaccard_score is \",jaccard_score(y_test,yhat,pos_label=0))"
      ],
      "execution_count": 52,
      "outputs": [
        {
          "output_type": "stream",
          "name": "stdout",
          "text": [
            "0.7890535917901939\n",
            "Jaccard_score is  0.7813238770685579\n"
          ]
        }
      ]
    }
  ]
}